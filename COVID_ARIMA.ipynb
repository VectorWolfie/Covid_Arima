{
  "nbformat": 4,
  "nbformat_minor": 0,
  "metadata": {
    "colab": {
      "name": "COVID-ARIMA.ipynb",
      "provenance": [],
      "collapsed_sections": []
    },
    "kernelspec": {
      "name": "python3",
      "display_name": "Python 3"
    },
    "language_info": {
      "name": "python"
    }
  },
  "cells": [
    {
      "cell_type": "code",
      "execution_count": null,
      "metadata": {
        "colab": {
          "resources": {
            "http://localhost:8080/nbextensions/google.colab/files.js": {
              "data": "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",
              "ok": true,
              "headers": [
                [
                  "content-type",
                  "application/javascript"
                ]
              ],
              "status": 200,
              "status_text": ""
            }
          },
          "base_uri": "https://localhost:8080/",
          "height": 73
        },
        "id": "5hTZgi08nuXv",
        "outputId": "f1bc3eeb-2be7-41f6-d995-64bf504081c2"
      },
      "outputs": [
        {
          "output_type": "display_data",
          "data": {
            "text/html": [
              "\n",
              "     <input type=\"file\" id=\"files-5fd30a9d-10d6-476a-83bf-c281190bb3f7\" name=\"files[]\" multiple disabled\n",
              "        style=\"border:none\" />\n",
              "     <output id=\"result-5fd30a9d-10d6-476a-83bf-c281190bb3f7\">\n",
              "      Upload widget is only available when the cell has been executed in the\n",
              "      current browser session. Please rerun this cell to enable.\n",
              "      </output>\n",
              "      <script src=\"/nbextensions/google.colab/files.js\"></script> "
            ],
            "text/plain": [
              "<IPython.core.display.HTML object>"
            ]
          },
          "metadata": {}
        },
        {
          "output_type": "stream",
          "name": "stdout",
          "text": [
            "Saving states.csv to states.csv\n"
          ]
        }
      ],
      "source": [
        "import numpy as np\n",
        "import pandas as pd\n",
        "import csv\n",
        "import matplotlib.pyplot as plt\n",
        "from sklearn import preprocessing\n",
        "import datetime\n",
        "\n",
        "from google.colab import files\n",
        "uploaded = files.upload()"
      ]
    },
    {
      "cell_type": "code",
      "source": [
        "import io\n",
        "df = pd.read_csv(io.BytesIO(uploaded['states.csv']), parse_dates=['Date'], index_col=['Date'])\n",
        "df.head()"
      ],
      "metadata": {
        "colab": {
          "base_uri": "https://localhost:8080/",
          "height": 238
        },
        "id": "UX6XVPKnoI5y",
        "outputId": "12099a30-8cc1-49fb-8584-262a711d9c73"
      },
      "execution_count": null,
      "outputs": [
        {
          "output_type": "execute_result",
          "data": {
            "text/html": [
              "\n",
              "  <div id=\"df-288f51df-e09b-484f-b802-add16bd2a5fd\">\n",
              "    <div class=\"colab-df-container\">\n",
              "      <div>\n",
              "<style scoped>\n",
              "    .dataframe tbody tr th:only-of-type {\n",
              "        vertical-align: middle;\n",
              "    }\n",
              "\n",
              "    .dataframe tbody tr th {\n",
              "        vertical-align: top;\n",
              "    }\n",
              "\n",
              "    .dataframe thead th {\n",
              "        text-align: right;\n",
              "    }\n",
              "</style>\n",
              "<table border=\"1\" class=\"dataframe\">\n",
              "  <thead>\n",
              "    <tr style=\"text-align: right;\">\n",
              "      <th></th>\n",
              "      <th>State</th>\n",
              "      <th>Confirmed</th>\n",
              "      <th>Recovered</th>\n",
              "      <th>Deceased</th>\n",
              "      <th>Other</th>\n",
              "      <th>Tested</th>\n",
              "    </tr>\n",
              "    <tr>\n",
              "      <th>Date</th>\n",
              "      <th></th>\n",
              "      <th></th>\n",
              "      <th></th>\n",
              "      <th></th>\n",
              "      <th></th>\n",
              "      <th></th>\n",
              "    </tr>\n",
              "  </thead>\n",
              "  <tbody>\n",
              "    <tr>\n",
              "      <th>2020-01-30</th>\n",
              "      <td>Kerala</td>\n",
              "      <td>1</td>\n",
              "      <td>0</td>\n",
              "      <td>0</td>\n",
              "      <td>0</td>\n",
              "      <td>NaN</td>\n",
              "    </tr>\n",
              "    <tr>\n",
              "      <th>2020-01-30</th>\n",
              "      <td>India</td>\n",
              "      <td>1</td>\n",
              "      <td>0</td>\n",
              "      <td>0</td>\n",
              "      <td>0</td>\n",
              "      <td>NaN</td>\n",
              "    </tr>\n",
              "    <tr>\n",
              "      <th>2020-02-02</th>\n",
              "      <td>Kerala</td>\n",
              "      <td>2</td>\n",
              "      <td>0</td>\n",
              "      <td>0</td>\n",
              "      <td>0</td>\n",
              "      <td>NaN</td>\n",
              "    </tr>\n",
              "    <tr>\n",
              "      <th>2020-02-02</th>\n",
              "      <td>India</td>\n",
              "      <td>2</td>\n",
              "      <td>0</td>\n",
              "      <td>0</td>\n",
              "      <td>0</td>\n",
              "      <td>NaN</td>\n",
              "    </tr>\n",
              "    <tr>\n",
              "      <th>2020-02-03</th>\n",
              "      <td>Kerala</td>\n",
              "      <td>3</td>\n",
              "      <td>0</td>\n",
              "      <td>0</td>\n",
              "      <td>0</td>\n",
              "      <td>NaN</td>\n",
              "    </tr>\n",
              "  </tbody>\n",
              "</table>\n",
              "</div>\n",
              "      <button class=\"colab-df-convert\" onclick=\"convertToInteractive('df-288f51df-e09b-484f-b802-add16bd2a5fd')\"\n",
              "              title=\"Convert this dataframe to an interactive table.\"\n",
              "              style=\"display:none;\">\n",
              "        \n",
              "  <svg xmlns=\"http://www.w3.org/2000/svg\" height=\"24px\"viewBox=\"0 0 24 24\"\n",
              "       width=\"24px\">\n",
              "    <path d=\"M0 0h24v24H0V0z\" fill=\"none\"/>\n",
              "    <path d=\"M18.56 5.44l.94 2.06.94-2.06 2.06-.94-2.06-.94-.94-2.06-.94 2.06-2.06.94zm-11 1L8.5 8.5l.94-2.06 2.06-.94-2.06-.94L8.5 2.5l-.94 2.06-2.06.94zm10 10l.94 2.06.94-2.06 2.06-.94-2.06-.94-.94-2.06-.94 2.06-2.06.94z\"/><path d=\"M17.41 7.96l-1.37-1.37c-.4-.4-.92-.59-1.43-.59-.52 0-1.04.2-1.43.59L10.3 9.45l-7.72 7.72c-.78.78-.78 2.05 0 2.83L4 21.41c.39.39.9.59 1.41.59.51 0 1.02-.2 1.41-.59l7.78-7.78 2.81-2.81c.8-.78.8-2.07 0-2.86zM5.41 20L4 18.59l7.72-7.72 1.47 1.35L5.41 20z\"/>\n",
              "  </svg>\n",
              "      </button>\n",
              "      \n",
              "  <style>\n",
              "    .colab-df-container {\n",
              "      display:flex;\n",
              "      flex-wrap:wrap;\n",
              "      gap: 12px;\n",
              "    }\n",
              "\n",
              "    .colab-df-convert {\n",
              "      background-color: #E8F0FE;\n",
              "      border: none;\n",
              "      border-radius: 50%;\n",
              "      cursor: pointer;\n",
              "      display: none;\n",
              "      fill: #1967D2;\n",
              "      height: 32px;\n",
              "      padding: 0 0 0 0;\n",
              "      width: 32px;\n",
              "    }\n",
              "\n",
              "    .colab-df-convert:hover {\n",
              "      background-color: #E2EBFA;\n",
              "      box-shadow: 0px 1px 2px rgba(60, 64, 67, 0.3), 0px 1px 3px 1px rgba(60, 64, 67, 0.15);\n",
              "      fill: #174EA6;\n",
              "    }\n",
              "\n",
              "    [theme=dark] .colab-df-convert {\n",
              "      background-color: #3B4455;\n",
              "      fill: #D2E3FC;\n",
              "    }\n",
              "\n",
              "    [theme=dark] .colab-df-convert:hover {\n",
              "      background-color: #434B5C;\n",
              "      box-shadow: 0px 1px 3px 1px rgba(0, 0, 0, 0.15);\n",
              "      filter: drop-shadow(0px 1px 2px rgba(0, 0, 0, 0.3));\n",
              "      fill: #FFFFFF;\n",
              "    }\n",
              "  </style>\n",
              "\n",
              "      <script>\n",
              "        const buttonEl =\n",
              "          document.querySelector('#df-288f51df-e09b-484f-b802-add16bd2a5fd button.colab-df-convert');\n",
              "        buttonEl.style.display =\n",
              "          google.colab.kernel.accessAllowed ? 'block' : 'none';\n",
              "\n",
              "        async function convertToInteractive(key) {\n",
              "          const element = document.querySelector('#df-288f51df-e09b-484f-b802-add16bd2a5fd');\n",
              "          const dataTable =\n",
              "            await google.colab.kernel.invokeFunction('convertToInteractive',\n",
              "                                                     [key], {});\n",
              "          if (!dataTable) return;\n",
              "\n",
              "          const docLinkHtml = 'Like what you see? Visit the ' +\n",
              "            '<a target=\"_blank\" href=https://colab.research.google.com/notebooks/data_table.ipynb>data table notebook</a>'\n",
              "            + ' to learn more about interactive tables.';\n",
              "          element.innerHTML = '';\n",
              "          dataTable['output_type'] = 'display_data';\n",
              "          await google.colab.output.renderOutput(dataTable, element);\n",
              "          const docLink = document.createElement('div');\n",
              "          docLink.innerHTML = docLinkHtml;\n",
              "          element.appendChild(docLink);\n",
              "        }\n",
              "      </script>\n",
              "    </div>\n",
              "  </div>\n",
              "  "
            ],
            "text/plain": [
              "             State  Confirmed  Recovered  Deceased  Other  Tested\n",
              "Date                                                             \n",
              "2020-01-30  Kerala          1          0         0      0     NaN\n",
              "2020-01-30   India          1          0         0      0     NaN\n",
              "2020-02-02  Kerala          2          0         0      0     NaN\n",
              "2020-02-02   India          2          0         0      0     NaN\n",
              "2020-02-03  Kerala          3          0         0      0     NaN"
            ]
          },
          "metadata": {},
          "execution_count": 2
        }
      ]
    },
    {
      "cell_type": "code",
      "source": [
        "df_Kerala = df.loc[df['State'] == \"Kerala\"]\n",
        "print(df_Kerala)\n",
        "df_Kerala.to_csv('kerala.csv')"
      ],
      "metadata": {
        "colab": {
          "base_uri": "https://localhost:8080/"
        },
        "id": "9t4is8tHpGYj",
        "outputId": "2b3fae96-458a-40ed-9be5-2b79100365a3"
      },
      "execution_count": null,
      "outputs": [
        {
          "output_type": "stream",
          "name": "stdout",
          "text": [
            "             State  Confirmed  Recovered  Deceased  Other      Tested\n",
            "Date                                                                 \n",
            "2020-01-30  Kerala          1          0         0      0         NaN\n",
            "2020-02-02  Kerala          2          0         0      0         NaN\n",
            "2020-02-03  Kerala          3          0         0      0         NaN\n",
            "2020-02-14  Kerala          3          3         0      0         NaN\n",
            "2020-03-02  Kerala          3          3         0      0         NaN\n",
            "...            ...        ...        ...       ...    ...         ...\n",
            "2021-10-27  Kerala    4938603    4831468     29977    529  37602787.0\n",
            "2021-10-28  Kerala    4946341    4836928     30685    529  37678830.0\n",
            "2021-10-29  Kerala    4954063    4843576     31156    529  37750511.0\n",
            "2021-10-30  Kerala    4961490    4850742     31514    529  37821220.0\n",
            "2021-10-31  Kerala    4968657    4857181     31681    529  37886378.0\n",
            "\n",
            "[613 rows x 6 columns]\n"
          ]
        }
      ]
    },
    {
      "cell_type": "code",
      "source": [
        "df_Kerala.plot()"
      ],
      "metadata": {
        "colab": {
          "base_uri": "https://localhost:8080/",
          "height": 305
        },
        "id": "FFIyB6U4q0VS",
        "outputId": "36dfd593-a582-424d-e9bc-a1c09b536c04"
      },
      "execution_count": null,
      "outputs": [
        {
          "output_type": "execute_result",
          "data": {
            "text/plain": [
              "<matplotlib.axes._subplots.AxesSubplot at 0x7f17c6f79790>"
            ]
          },
          "metadata": {},
          "execution_count": 4
        },
        {
          "output_type": "display_data",
          "data": {
            "image/png": "[encoded data removed]",
            "text/plain": [
              "<Figure size 432x288 with 1 Axes>"
            ]
          },
          "metadata": {
            "needs_background": "light"
          }
        }
      ]
    },
    {
      "cell_type": "code",
      "source": [
        "df_Kerala_confirmed = df_Kerala[\"Confirmed\"]\n",
        "print(df_Kerala_confirmed)"
      ],
      "metadata": {
        "colab": {
          "base_uri": "https://localhost:8080/"
        },
        "id": "9c5CRLbHrVsi",
        "outputId": "df35acfc-226f-4820-f1c7-3b8702046435"
      },
      "execution_count": null,
      "outputs": [
        {
          "output_type": "stream",
          "name": "stdout",
          "text": [
            "Date\n",
            "2020-01-30          1\n",
            "2020-02-02          2\n",
            "2020-02-03          3\n",
            "2020-02-14          3\n",
            "2020-03-02          3\n",
            "               ...   \n",
            "2021-10-27    4938603\n",
            "2021-10-28    4946341\n",
            "2021-10-29    4954063\n",
            "2021-10-30    4961490\n",
            "2021-10-31    4968657\n",
            "Name: Confirmed, Length: 613, dtype: int64\n"
          ]
        }
      ]
    },
    {
      "cell_type": "code",
      "source": [
        "df_Kerala_confirmed.plot()"
      ],
      "metadata": {
        "colab": {
          "base_uri": "https://localhost:8080/",
          "height": 305
        },
        "id": "3pdp35LFr0yw",
        "outputId": "585ec292-c167-454d-d35a-0be0f907caf5"
      },
      "execution_count": null,
      "outputs": [
        {
          "output_type": "execute_result",
          "data": {
            "text/plain": [
              "<matplotlib.axes._subplots.AxesSubplot at 0x7f17c69f16d0>"
            ]
          },
          "metadata": {},
          "execution_count": 6
        },
        {
          "output_type": "display_data",
          "data": {
            "image/png": "[encoded data removed]",
            "text/plain": [
              "<Figure size 432x288 with 1 Axes>"
            ]
          },
          "metadata": {
            "needs_background": "light"
          }
        }
      ]
    },
    {
      "cell_type": "code",
      "source": [
        "df_Kerala_confirmed.plot(x='Date', y='Confirmed',figsize=(12, 6))"
      ],
      "metadata": {
        "colab": {
          "base_uri": "https://localhost:8080/",
          "height": 403
        },
        "id": "Lzv9hH_Wr83Y",
        "outputId": "a8a559a5-c15b-4fea-a4ca-7832430cc44a"
      },
      "execution_count": null,
      "outputs": [
        {
          "output_type": "execute_result",
          "data": {
            "text/plain": [
              "<matplotlib.axes._subplots.AxesSubplot at 0x7f17c695b350>"
            ]
          },
          "metadata": {},
          "execution_count": 7
        },
        {
          "output_type": "display_data",
          "data": {
            "image/png": "[encoded data removed]",
            "text/plain": [
              "<Figure size 864x432 with 1 Axes>"
            ]
          },
          "metadata": {
            "needs_background": "light"
          }
        }
      ]
    },
    {
      "cell_type": "code",
      "source": [
        "# Check missing dates\n",
        "missing_dates = pd.date_range(df_Kerala_confirmed.index.min(), df_Kerala_confirmed.index.max()).difference(df_Kerala_confirmed.index)\n",
        "print(missing_dates)\n",
        "print(\"Count missing {}\".format(len(missing_dates)))\n",
        "# Add missing dates \n",
        "# df_Kerala_confirmed_fill = df_Kerala_confirmed.resample('D').ffill().reset_index()\n",
        "df_Kerala_confirmed_fill = df_Kerala_confirmed\n",
        "df_Kerala_confirmed_fill = df_Kerala_confirmed_fill.resample('1D').ffill()\n",
        "df_Kerala_confirmed_fill = df_Kerala_confirmed_fill.fillna(df_Kerala_confirmed_fill)\n",
        "print(df_Kerala_confirmed_fill)\n",
        "\n",
        "# df_Kerala_confirmed_fill.to_csv('Kerala_confirmed_fill.csv')\n",
        "#RE-check missing\n",
        "missing_dates = pd.date_range(df_Kerala_confirmed_fill.index.min(), df_Kerala_confirmed_fill.index.max()).difference(df_Kerala_confirmed_fill.index)\n",
        "print(missing_dates)\n",
        "print(\"After Fill Count missing {} Min Date {} Max Date {}\".format(len(missing_dates), df_Kerala_confirmed_fill.index.min(), df_Kerala_confirmed_fill.index.max()))"
      ],
      "metadata": {
        "colab": {
          "base_uri": "https://localhost:8080/"
        },
        "id": "EYnJgOi1tD3-",
        "outputId": "18d18637-069b-4974-a293-b2df5129c32a"
      },
      "execution_count": null,
      "outputs": [
        {
          "output_type": "stream",
          "name": "stdout",
          "text": [
            "DatetimeIndex(['2020-01-31', '2020-02-01', '2020-02-04', '2020-02-05',\n",
            "               '2020-02-06', '2020-02-07', '2020-02-08', '2020-02-09',\n",
            "               '2020-02-10', '2020-02-11', '2020-02-12', '2020-02-13',\n",
            "               '2020-02-15', '2020-02-16', '2020-02-17', '2020-02-18',\n",
            "               '2020-02-19', '2020-02-20', '2020-02-21', '2020-02-22',\n",
            "               '2020-02-23', '2020-02-24', '2020-02-25', '2020-02-26',\n",
            "               '2020-02-27', '2020-02-28', '2020-02-29', '2020-03-01'],\n",
            "              dtype='datetime64[ns]', freq=None)\n",
            "Count missing 28\n",
            "Date\n",
            "2020-01-30          1\n",
            "2020-01-31          1\n",
            "2020-02-01          1\n",
            "2020-02-02          2\n",
            "2020-02-03          3\n",
            "               ...   \n",
            "2021-10-27    4938603\n",
            "2021-10-28    4946341\n",
            "2021-10-29    4954063\n",
            "2021-10-30    4961490\n",
            "2021-10-31    4968657\n",
            "Freq: D, Name: Confirmed, Length: 641, dtype: int64\n",
            "DatetimeIndex([], dtype='datetime64[ns]', freq=None)\n",
            "After Fill Count missing 0 Min Date 2020-01-30 00:00:00 Max Date 2021-10-31 00:00:00\n"
          ]
        }
      ]
    },
    {
      "cell_type": "code",
      "source": [
        "df_Kerala_confirmed_fill.plot(x='Date', y='Confirmed',figsize=(12, 6))"
      ],
      "metadata": {
        "colab": {
          "base_uri": "https://localhost:8080/",
          "height": 428
        },
        "id": "Aj0E-e7JtPzH",
        "outputId": "9014fade-d746-4292-ddba-ddcac0b72a98"
      },
      "execution_count": null,
      "outputs": [
        {
          "output_type": "execute_result",
          "data": {
            "text/plain": [
              "<matplotlib.axes._subplots.AxesSubplot at 0x7f17c6946ed0>"
            ]
          },
          "metadata": {},
          "execution_count": 9
        },
        {
          "output_type": "display_data",
          "data": {
            "image/png": "[encoded data removed]",
            "text/plain": [
              "<Figure size 864x432 with 1 Axes>"
            ]
          },
          "metadata": {
            "needs_background": "light"
          }
        }
      ]
    },
    {
      "cell_type": "code",
      "source": [
        "df_Kerala_confirmed_interpolate = df_Kerala_confirmed_fill.interpolate()\n",
        "print(df_Kerala_confirmed_interpolate)\n",
        "df_Kerala_confirmed_interpolate.plot()"
      ],
      "metadata": {
        "colab": {
          "base_uri": "https://localhost:8080/",
          "height": 545
        },
        "id": "IoPv32LJuCuF",
        "outputId": "0e6b73e7-e66d-4d8f-a10e-022f194b5739"
      },
      "execution_count": null,
      "outputs": [
        {
          "output_type": "stream",
          "name": "stdout",
          "text": [
            "Date\n",
            "2020-01-30          1\n",
            "2020-01-31          1\n",
            "2020-02-01          1\n",
            "2020-02-02          2\n",
            "2020-02-03          3\n",
            "               ...   \n",
            "2021-10-27    4938603\n",
            "2021-10-28    4946341\n",
            "2021-10-29    4954063\n",
            "2021-10-30    4961490\n",
            "2021-10-31    4968657\n",
            "Freq: D, Name: Confirmed, Length: 641, dtype: int64\n"
          ]
        },
        {
          "output_type": "execute_result",
          "data": {
            "text/plain": [
              "<matplotlib.axes._subplots.AxesSubplot at 0x7f17c5fdd690>"
            ]
          },
          "metadata": {},
          "execution_count": 10
        },
        {
          "output_type": "display_data",
          "data": {
            "image/png": "[encoded data removed]",
            "text/plain": [
              "<Figure size 432x288 with 1 Axes>"
            ]
          },
          "metadata": {
            "needs_background": "light"
          }
        }
      ]
    },
    {
      "cell_type": "code",
      "source": [
        "print(df_Kerala_confirmed_fill.shape)\n",
        "train=df_Kerala_confirmed_fill.iloc[:-120]\n",
        "test=df_Kerala_confirmed_fill.iloc[-120:]\n",
        "print(train.shape,test.shape)"
      ],
      "metadata": {
        "colab": {
          "base_uri": "https://localhost:8080/"
        },
        "id": "JjSIaM2f3Wog",
        "outputId": "97b3b7a1-474d-4942-ba2b-4d739b81e784"
      },
      "execution_count": null,
      "outputs": [
        {
          "output_type": "stream",
          "name": "stdout",
          "text": [
            "(641,)\n",
            "(521,) (120,)\n"
          ]
        }
      ]
    },
    {
      "cell_type": "code",
      "source": [
        "pip install pmdarima"
      ],
      "metadata": {
        "colab": {
          "base_uri": "https://localhost:8080/"
        },
        "id": "DduMNXfNDvVP",
        "outputId": "0024ebb3-a7d1-4590-8161-30757e9a5e42"
      },
      "execution_count": null,
      "outputs": [
        {
          "output_type": "stream",
          "name": "stdout",
          "text": [
            "Collecting pmdarima\n",
            "  Downloading pmdarima-1.8.4-cp37-cp37m-manylinux_2_17_x86_64.manylinux2014_x86_64.manylinux_2_24_x86_64.whl (1.4 MB)\n",
            "\u001b[?25l\r\u001b[K     |▎                               | 10 kB 25.7 MB/s eta 0:00:01\r\u001b[K     |▌                               | 20 kB 11.7 MB/s eta 0:00:01\r\u001b[K     |▊                               | 30 kB 9.7 MB/s eta 0:00:01\r\u001b[K     |█                               | 40 kB 8.7 MB/s eta 0:00:01\r\u001b[K     |█▏                              | 51 kB 5.3 MB/s eta 0:00:01\r\u001b[K     |█▍                              | 61 kB 5.8 MB/s eta 0:00:01\r\u001b[K     |█▋                              | 71 kB 5.7 MB/s eta 0:00:01\r\u001b[K     |██                              | 81 kB 6.4 MB/s eta 0:00:01\r\u001b[K     |██▏                             | 92 kB 4.9 MB/s eta 0:00:01\r\u001b[K     |██▍                             | 102 kB 5.2 MB/s eta 0:00:01\r\u001b[K     |██▋                             | 112 kB 5.2 MB/s eta 0:00:01\r\u001b[K     |██▉                             | 122 kB 5.2 MB/s eta 0:00:01\r\u001b[K     |███                             | 133 kB 5.2 MB/s eta 0:00:01\r\u001b[K     |███▎                            | 143 kB 5.2 MB/s eta 0:00:01\r\u001b[K     |███▌                            | 153 kB 5.2 MB/s eta 0:00:01\r\u001b[K     |███▉                            | 163 kB 5.2 MB/s eta 0:00:01\r\u001b[K     |████                            | 174 kB 5.2 MB/s eta 0:00:01\r\u001b[K     |████▎                           | 184 kB 5.2 MB/s eta 0:00:01\r\u001b[K     |████▌                           | 194 kB 5.2 MB/s eta 0:00:01\r\u001b[K     |████▊                           | 204 kB 5.2 MB/s eta 0:00:01\r\u001b[K     |█████                           | 215 kB 5.2 MB/s eta 0:00:01\r\u001b[K     |█████▏                          | 225 kB 5.2 MB/s eta 0:00:01\r\u001b[K     |█████▌                          | 235 kB 5.2 MB/s eta 0:00:01\r\u001b[K     |█████▊                          | 245 kB 5.2 MB/s eta 0:00:01\r\u001b[K     |██████                          | 256 kB 5.2 MB/s eta 0:00:01\r\u001b[K     |██████▏                         | 266 kB 5.2 MB/s eta 0:00:01\r\u001b[K     |██████▍                         | 276 kB 5.2 MB/s eta 0:00:01\r\u001b[K     |██████▋                         | 286 kB 5.2 MB/s eta 0:00:01\r\u001b[K     |██████▉                         | 296 kB 5.2 MB/s eta 0:00:01\r\u001b[K     |███████                         | 307 kB 5.2 MB/s eta 0:00:01\r\u001b[K     |███████▍                        | 317 kB 5.2 MB/s eta 0:00:01\r\u001b[K     |███████▋                        | 327 kB 5.2 MB/s eta 0:00:01\r\u001b[K     |███████▉                        | 337 kB 5.2 MB/s eta 0:00:01\r\u001b[K     |████████                        | 348 kB 5.2 MB/s eta 0:00:01\r\u001b[K     |████████▎                       | 358 kB 5.2 MB/s eta 0:00:01\r\u001b[K     |████████▌                       | 368 kB 5.2 MB/s eta 0:00:01\r\u001b[K     |████████▊                       | 378 kB 5.2 MB/s eta 0:00:01\r\u001b[K     |█████████                       | 389 kB 5.2 MB/s eta 0:00:01\r\u001b[K     |█████████▎                      | 399 kB 5.2 MB/s eta 0:00:01\r\u001b[K     |█████████▌                      | 409 kB 5.2 MB/s eta 0:00:01\r\u001b[K     |█████████▊                      | 419 kB 5.2 MB/s eta 0:00:01\r\u001b[K     |██████████                      | 430 kB 5.2 MB/s eta 0:00:01\r\u001b[K     |██████████▏                     | 440 kB 5.2 MB/s eta 0:00:01\r\u001b[K     |██████████▍                     | 450 kB 5.2 MB/s eta 0:00:01\r\u001b[K     |██████████▋                     | 460 kB 5.2 MB/s eta 0:00:01\r\u001b[K     |███████████                     | 471 kB 5.2 MB/s eta 0:00:01\r\u001b[K     |███████████▏                    | 481 kB 5.2 MB/s eta 0:00:01\r\u001b[K     |███████████▍                    | 491 kB 5.2 MB/s eta 0:00:01\r\u001b[K     |███████████▋                    | 501 kB 5.2 MB/s eta 0:00:01\r\u001b[K     |███████████▉                    | 512 kB 5.2 MB/s eta 0:00:01\r\u001b[K     |████████████                    | 522 kB 5.2 MB/s eta 0:00:01\r\u001b[K     |████████████▎                   | 532 kB 5.2 MB/s eta 0:00:01\r\u001b[K     |████████████▌                   | 542 kB 5.2 MB/s eta 0:00:01\r\u001b[K     |████████████▉                   | 552 kB 5.2 MB/s eta 0:00:01\r\u001b[K     |█████████████                   | 563 kB 5.2 MB/s eta 0:00:01\r\u001b[K     |█████████████▎                  | 573 kB 5.2 MB/s eta 0:00:01\r\u001b[K     |█████████████▌                  | 583 kB 5.2 MB/s eta 0:00:01\r\u001b[K     |█████████████▊                  | 593 kB 5.2 MB/s eta 0:00:01\r\u001b[K     |██████████████                  | 604 kB 5.2 MB/s eta 0:00:01\r\u001b[K     |██████████████▏                 | 614 kB 5.2 MB/s eta 0:00:01\r\u001b[K     |██████████████▍                 | 624 kB 5.2 MB/s eta 0:00:01\r\u001b[K     |██████████████▊                 | 634 kB 5.2 MB/s eta 0:00:01\r\u001b[K     |███████████████                 | 645 kB 5.2 MB/s eta 0:00:01\r\u001b[K     |███████████████▏                | 655 kB 5.2 MB/s eta 0:00:01\r\u001b[K     |███████████████▍                | 665 kB 5.2 MB/s eta 0:00:01\r\u001b[K     |███████████████▋                | 675 kB 5.2 MB/s eta 0:00:01\r\u001b[K     |███████████████▉                | 686 kB 5.2 MB/s eta 0:00:01\r\u001b[K     |████████████████                | 696 kB 5.2 MB/s eta 0:00:01\r\u001b[K     |████████████████▍               | 706 kB 5.2 MB/s eta 0:00:01\r\u001b[K     |████████████████▋               | 716 kB 5.2 MB/s eta 0:00:01\r\u001b[K     |████████████████▉               | 727 kB 5.2 MB/s eta 0:00:01\r\u001b[K     |█████████████████               | 737 kB 5.2 MB/s eta 0:00:01\r\u001b[K     |█████████████████▎              | 747 kB 5.2 MB/s eta 0:00:01\r\u001b[K     |█████████████████▌              | 757 kB 5.2 MB/s eta 0:00:01\r\u001b[K     |█████████████████▊              | 768 kB 5.2 MB/s eta 0:00:01\r\u001b[K     |██████████████████              | 778 kB 5.2 MB/s eta 0:00:01\r\u001b[K     |██████████████████▎             | 788 kB 5.2 MB/s eta 0:00:01\r\u001b[K     |██████████████████▌             | 798 kB 5.2 MB/s eta 0:00:01\r\u001b[K     |██████████████████▊             | 808 kB 5.2 MB/s eta 0:00:01\r\u001b[K     |███████████████████             | 819 kB 5.2 MB/s eta 0:00:01\r\u001b[K     |███████████████████▏            | 829 kB 5.2 MB/s eta 0:00:01\r\u001b[K     |███████████████████▍            | 839 kB 5.2 MB/s eta 0:00:01\r\u001b[K     |███████████████████▋            | 849 kB 5.2 MB/s eta 0:00:01\r\u001b[K     |███████████████████▉            | 860 kB 5.2 MB/s eta 0:00:01\r\u001b[K     |████████████████████▏           | 870 kB 5.2 MB/s eta 0:00:01\r\u001b[K     |████████████████████▍           | 880 kB 5.2 MB/s eta 0:00:01\r\u001b[K     |████████████████████▋           | 890 kB 5.2 MB/s eta 0:00:01\r\u001b[K     |████████████████████▉           | 901 kB 5.2 MB/s eta 0:00:01\r\u001b[K     |█████████████████████           | 911 kB 5.2 MB/s eta 0:00:01\r\u001b[K     |█████████████████████▎          | 921 kB 5.2 MB/s eta 0:00:01\r\u001b[K     |█████████████████████▌          | 931 kB 5.2 MB/s eta 0:00:01\r\u001b[K     |█████████████████████▉          | 942 kB 5.2 MB/s eta 0:00:01\r\u001b[K     |██████████████████████          | 952 kB 5.2 MB/s eta 0:00:01\r\u001b[K     |██████████████████████▎         | 962 kB 5.2 MB/s eta 0:00:01\r\u001b[K     |██████████████████████▌         | 972 kB 5.2 MB/s eta 0:00:01\r\u001b[K     |██████████████████████▊         | 983 kB 5.2 MB/s eta 0:00:01\r\u001b[K     |███████████████████████         | 993 kB 5.2 MB/s eta 0:00:01\r\u001b[K     |███████████████████████▏        | 1.0 MB 5.2 MB/s eta 0:00:01\r\u001b[K     |███████████████████████▍        | 1.0 MB 5.2 MB/s eta 0:00:01\r\u001b[K     |███████████████████████▊        | 1.0 MB 5.2 MB/s eta 0:00:01\r\u001b[K     |████████████████████████        | 1.0 MB 5.2 MB/s eta 0:00:01\r\u001b[K     |████████████████████████▏       | 1.0 MB 5.2 MB/s eta 0:00:01\r\u001b[K     |████████████████████████▍       | 1.1 MB 5.2 MB/s eta 0:00:01\r\u001b[K     |████████████████████████▋       | 1.1 MB 5.2 MB/s eta 0:00:01\r\u001b[K     |████████████████████████▉       | 1.1 MB 5.2 MB/s eta 0:00:01\r\u001b[K     |█████████████████████████       | 1.1 MB 5.2 MB/s eta 0:00:01\r\u001b[K     |█████████████████████████▎      | 1.1 MB 5.2 MB/s eta 0:00:01\r\u001b[K     |█████████████████████████▋      | 1.1 MB 5.2 MB/s eta 0:00:01\r\u001b[K     |█████████████████████████▉      | 1.1 MB 5.2 MB/s eta 0:00:01\r\u001b[K     |██████████████████████████      | 1.1 MB 5.2 MB/s eta 0:00:01\r\u001b[K     |██████████████████████████▎     | 1.1 MB 5.2 MB/s eta 0:00:01\r\u001b[K     |██████████████████████████▌     | 1.1 MB 5.2 MB/s eta 0:00:01\r\u001b[K     |██████████████████████████▊     | 1.2 MB 5.2 MB/s eta 0:00:01\r\u001b[K     |███████████████████████████     | 1.2 MB 5.2 MB/s eta 0:00:01\r\u001b[K     |███████████████████████████▎    | 1.2 MB 5.2 MB/s eta 0:00:01\r\u001b[K     |███████████████████████████▌    | 1.2 MB 5.2 MB/s eta 0:00:01\r\u001b[K     |███████████████████████████▊    | 1.2 MB 5.2 MB/s eta 0:00:01\r\u001b[K     |████████████████████████████    | 1.2 MB 5.2 MB/s eta 0:00:01\r\u001b[K     |████████████████████████████▏   | 1.2 MB 5.2 MB/s eta 0:00:01\r\u001b[K     |████████████████████████████▍   | 1.2 MB 5.2 MB/s eta 0:00:01\r\u001b[K     |████████████████████████████▋   | 1.2 MB 5.2 MB/s eta 0:00:01\r\u001b[K     |████████████████████████████▉   | 1.2 MB 5.2 MB/s eta 0:00:01\r\u001b[K     |█████████████████████████████▏  | 1.3 MB 5.2 MB/s eta 0:00:01\r\u001b[K     |█████████████████████████████▍  | 1.3 MB 5.2 MB/s eta 0:00:01\r\u001b[K     |█████████████████████████████▋  | 1.3 MB 5.2 MB/s eta 0:00:01\r\u001b[K     |█████████████████████████████▉  | 1.3 MB 5.2 MB/s eta 0:00:01\r\u001b[K     |██████████████████████████████  | 1.3 MB 5.2 MB/s eta 0:00:01\r\u001b[K     |██████████████████████████████▎ | 1.3 MB 5.2 MB/s eta 0:00:01\r\u001b[K     |██████████████████████████████▌ | 1.3 MB 5.2 MB/s eta 0:00:01\r\u001b[K     |██████████████████████████████▊ | 1.3 MB 5.2 MB/s eta 0:00:01\r\u001b[K     |███████████████████████████████ | 1.3 MB 5.2 MB/s eta 0:00:01\r\u001b[K     |███████████████████████████████▎| 1.4 MB 5.2 MB/s eta 0:00:01\r\u001b[K     |███████████████████████████████▌| 1.4 MB 5.2 MB/s eta 0:00:01\r\u001b[K     |███████████████████████████████▊| 1.4 MB 5.2 MB/s eta 0:00:01\r\u001b[K     |████████████████████████████████| 1.4 MB 5.2 MB/s eta 0:00:01\r\u001b[K     |████████████████████████████████| 1.4 MB 5.2 MB/s \n",
            "\u001b[?25hRequirement already satisfied: joblib>=0.11 in /usr/local/lib/python3.7/dist-packages (from pmdarima) (1.1.0)\n",
            "Collecting statsmodels!=0.12.0,>=0.11\n",
            "  Downloading statsmodels-0.13.1-cp37-cp37m-manylinux_2_17_x86_64.manylinux2014_x86_64.whl (9.8 MB)\n",
            "\u001b[K     |████████████████████████████████| 9.8 MB 43.8 MB/s \n",
            "\u001b[?25hRequirement already satisfied: scikit-learn>=0.22 in /usr/local/lib/python3.7/dist-packages (from pmdarima) (1.0.2)\n",
            "Requirement already satisfied: scipy>=1.3.2 in /usr/local/lib/python3.7/dist-packages (from pmdarima) (1.4.1)\n",
            "Requirement already satisfied: setuptools!=50.0.0,>=38.6.0 in /usr/local/lib/python3.7/dist-packages (from pmdarima) (57.4.0)\n",
            "Requirement already satisfied: urllib3 in /usr/local/lib/python3.7/dist-packages (from pmdarima) (1.24.3)\n",
            "Requirement already satisfied: pandas>=0.19 in /usr/local/lib/python3.7/dist-packages (from pmdarima) (1.1.5)\n",
            "Requirement already satisfied: numpy>=1.19.3 in /usr/local/lib/python3.7/dist-packages (from pmdarima) (1.19.5)\n",
            "Requirement already satisfied: Cython!=0.29.18,>=0.29 in /usr/local/lib/python3.7/dist-packages (from pmdarima) (0.29.26)\n",
            "Requirement already satisfied: pytz>=2017.2 in /usr/local/lib/python3.7/dist-packages (from pandas>=0.19->pmdarima) (2018.9)\n",
            "Requirement already satisfied: python-dateutil>=2.7.3 in /usr/local/lib/python3.7/dist-packages (from pandas>=0.19->pmdarima) (2.8.2)\n",
            "Requirement already satisfied: six>=1.5 in /usr/local/lib/python3.7/dist-packages (from python-dateutil>=2.7.3->pandas>=0.19->pmdarima) (1.15.0)\n",
            "Requirement already satisfied: threadpoolctl>=2.0.0 in /usr/local/lib/python3.7/dist-packages (from scikit-learn>=0.22->pmdarima) (3.0.0)\n",
            "Requirement already satisfied: patsy>=0.5.2 in /usr/local/lib/python3.7/dist-packages (from statsmodels!=0.12.0,>=0.11->pmdarima) (0.5.2)\n",
            "Installing collected packages: statsmodels, pmdarima\n",
            "  Attempting uninstall: statsmodels\n",
            "    Found existing installation: statsmodels 0.10.2\n",
            "    Uninstalling statsmodels-0.10.2:\n",
            "      Successfully uninstalled statsmodels-0.10.2\n",
            "Successfully installed pmdarima-1.8.4 statsmodels-0.13.1\n"
          ]
        }
      ]
    },
    {
      "cell_type": "code",
      "source": [
        "from pmdarima import auto_arima\n",
        "stepwise_fit = auto_arima(df_Kerala_confirmed_fill, trace=True,suppress_warnings=True)"
      ],
      "metadata": {
        "colab": {
          "base_uri": "https://localhost:8080/"
        },
        "id": "zDzUIghYErcp",
        "outputId": "a7d0d56e-bd55-4e38-e780-4b8299d608d7"
      },
      "execution_count": null,
      "outputs": [
        {
          "output_type": "stream",
          "name": "stdout",
          "text": [
            "Performing stepwise search to minimize aic\n",
            " ARIMA(2,2,2)(0,0,0)[0]             : AIC=11684.553, Time=0.35 sec\n",
            " ARIMA(0,2,0)(0,0,0)[0]             : AIC=11764.823, Time=0.04 sec\n",
            " ARIMA(1,2,0)(0,0,0)[0]             : AIC=11748.916, Time=0.08 sec\n",
            " ARIMA(0,2,1)(0,0,0)[0]             : AIC=11726.304, Time=0.06 sec\n",
            " ARIMA(1,2,2)(0,0,0)[0]             : AIC=11685.484, Time=0.15 sec\n",
            " ARIMA(2,2,1)(0,0,0)[0]             : AIC=11682.816, Time=0.12 sec\n",
            " ARIMA(1,2,1)(0,0,0)[0]             : AIC=11699.335, Time=0.12 sec\n",
            " ARIMA(2,2,0)(0,0,0)[0]             : AIC=11699.360, Time=0.05 sec\n",
            " ARIMA(3,2,1)(0,0,0)[0]             : AIC=11684.808, Time=0.27 sec\n",
            " ARIMA(3,2,0)(0,0,0)[0]             : AIC=11694.272, Time=0.07 sec\n",
            " ARIMA(3,2,2)(0,0,0)[0]             : AIC=11691.720, Time=0.23 sec\n",
            " ARIMA(2,2,1)(0,0,0)[0] intercept   : AIC=11684.786, Time=0.22 sec\n",
            "\n",
            "Best model:  ARIMA(2,2,1)(0,0,0)[0]          \n",
            "Total fit time: 1.779 seconds\n"
          ]
        }
      ]
    },
    {
      "cell_type": "code",
      "source": [
        "from statsmodels.tsa.arima.model import ARIMA\n",
        "model=ARIMA(train, order=(2,2,1))\n",
        "model=model.fit()\n",
        "model.summary()"
      ],
      "metadata": {
        "colab": {
          "base_uri": "https://localhost:8080/",
          "height": 452
        },
        "id": "Q5BIxKkaDikq",
        "outputId": "5fc8aba7-3201-4749-8aa7-91179882b259"
      },
      "execution_count": null,
      "outputs": [
        {
          "output_type": "execute_result",
          "data": {
            "text/html": [
              "<table class=\"simpletable\">\n",
              "<caption>SARIMAX Results</caption>\n",
              "<tr>\n",
              "  <th>Dep. Variable:</th>       <td>Confirmed</td>    <th>  No. Observations:  </th>    <td>521</td>   \n",
              "</tr>\n",
              "<tr>\n",
              "  <th>Model:</th>            <td>ARIMA(2, 2, 1)</td>  <th>  Log Likelihood     </th> <td>-4641.546</td>\n",
              "</tr>\n",
              "<tr>\n",
              "  <th>Date:</th>            <td>Mon, 24 Jan 2022</td> <th>  AIC                </th> <td>9291.091</td> \n",
              "</tr>\n",
              "<tr>\n",
              "  <th>Time:</th>                <td>05:24:28</td>     <th>  BIC                </th> <td>9308.099</td> \n",
              "</tr>\n",
              "<tr>\n",
              "  <th>Sample:</th>             <td>01-30-2020</td>    <th>  HQIC               </th> <td>9297.754</td> \n",
              "</tr>\n",
              "<tr>\n",
              "  <th></th>                   <td>- 07-03-2021</td>   <th>                     </th>     <td> </td>    \n",
              "</tr>\n",
              "<tr>\n",
              "  <th>Covariance Type:</th>        <td>opg</td>       <th>                     </th>     <td> </td>    \n",
              "</tr>\n",
              "</table>\n",
              "<table class=\"simpletable\">\n",
              "<tr>\n",
              "     <td></td>       <th>coef</th>     <th>std err</th>      <th>z</th>      <th>P>|z|</th>  <th>[0.025</th>    <th>0.975]</th>  \n",
              "</tr>\n",
              "<tr>\n",
              "  <th>ar.L1</th>  <td>    0.1334</td> <td>    0.067</td> <td>    1.977</td> <td> 0.048</td> <td>    0.001</td> <td>    0.266</td>\n",
              "</tr>\n",
              "<tr>\n",
              "  <th>ar.L2</th>  <td>   -0.2334</td> <td>    0.031</td> <td>   -7.441</td> <td> 0.000</td> <td>   -0.295</td> <td>   -0.172</td>\n",
              "</tr>\n",
              "<tr>\n",
              "  <th>ma.L1</th>  <td>   -0.3979</td> <td>    0.066</td> <td>   -6.030</td> <td> 0.000</td> <td>   -0.527</td> <td>   -0.269</td>\n",
              "</tr>\n",
              "<tr>\n",
              "  <th>sigma2</th> <td> 3.475e+06</td> <td> 9.09e+04</td> <td>   38.224</td> <td> 0.000</td> <td>  3.3e+06</td> <td> 3.65e+06</td>\n",
              "</tr>\n",
              "</table>\n",
              "<table class=\"simpletable\">\n",
              "<tr>\n",
              "  <th>Ljung-Box (L1) (Q):</th>      <td>0.01</td>   <th>  Jarque-Bera (JB):  </th> <td>2109.61</td>\n",
              "</tr>\n",
              "<tr>\n",
              "  <th>Prob(Q):</th>                 <td>0.90</td>   <th>  Prob(JB):          </th>  <td>0.00</td>  \n",
              "</tr>\n",
              "<tr>\n",
              "  <th>Heteroskedasticity (H):</th> <td>5092.72</td> <th>  Skew:              </th>  <td>-0.20</td> \n",
              "</tr>\n",
              "<tr>\n",
              "  <th>Prob(H) (two-sided):</th>     <td>0.00</td>   <th>  Kurtosis:          </th>  <td>12.87</td> \n",
              "</tr>\n",
              "</table><br/><br/>Warnings:<br/>[1] Covariance matrix calculated using the outer product of gradients (complex-step)."
            ],
            "text/plain": [
              "<class 'statsmodels.iolib.summary.Summary'>\n",
              "\"\"\"\n",
              "                               SARIMAX Results                                \n",
              "==============================================================================\n",
              "Dep. Variable:              Confirmed   No. Observations:                  521\n",
              "Model:                 ARIMA(2, 2, 1)   Log Likelihood               -4641.546\n",
              "Date:                Mon, 24 Jan 2022   AIC                           9291.091\n",
              "Time:                        05:24:28   BIC                           9308.099\n",
              "Sample:                    01-30-2020   HQIC                          9297.754\n",
              "                         - 07-03-2021                                         \n",
              "Covariance Type:                  opg                                         \n",
              "==============================================================================\n",
              "                 coef    std err          z      P>|z|      [0.025      0.975]\n",
              "------------------------------------------------------------------------------\n",
              "ar.L1          0.1334      0.067      1.977      0.048       0.001       0.266\n",
              "ar.L2         -0.2334      0.031     -7.441      0.000      -0.295      -0.172\n",
              "ma.L1         -0.3979      0.066     -6.030      0.000      -0.527      -0.269\n",
              "sigma2      3.475e+06   9.09e+04     38.224      0.000     3.3e+06    3.65e+06\n",
              "===================================================================================\n",
              "Ljung-Box (L1) (Q):                   0.01   Jarque-Bera (JB):              2109.61\n",
              "Prob(Q):                              0.90   Prob(JB):                         0.00\n",
              "Heteroskedasticity (H):            5092.72   Skew:                            -0.20\n",
              "Prob(H) (two-sided):                  0.00   Kurtosis:                        12.87\n",
              "===================================================================================\n",
              "\n",
              "Warnings:\n",
              "[1] Covariance matrix calculated using the outer product of gradients (complex-step).\n",
              "\"\"\""
            ]
          },
          "metadata": {},
          "execution_count": 14
        }
      ]
    },
    {
      "cell_type": "code",
      "source": [
        "start=len(train)\n",
        "end=len(train)+len(test)-1\n",
        "# ask to predict the test values\n",
        "pred=model.predict(start=start,end=end,typ='levels').rename('ARIMA Predictions')\n",
        "pred.plot(legend=True)\n",
        "df_Kerala_confirmed_fill.plot(legend=True)"
      ],
      "metadata": {
        "colab": {
          "base_uri": "https://localhost:8080/",
          "height": 319
        },
        "id": "PWqck-zmFFbI",
        "outputId": "2ea2f765-a0fe-4f61-8821-7c072d979eed"
      },
      "execution_count": null,
      "outputs": [
        {
          "output_type": "execute_result",
          "data": {
            "text/plain": [
              "<matplotlib.axes._subplots.AxesSubplot at 0x7f17acf92050>"
            ]
          },
          "metadata": {},
          "execution_count": 15
        },
        {
          "output_type": "display_data",
          "data": {
            "image/png": "[encoded data removed]",
            "text/plain": [
              "<Figure size 432x288 with 1 Axes>"
            ]
          },
          "metadata": {
            "needs_background": "light"
          }
        }
      ]
    },
    {
      "cell_type": "code",
      "source": [
        ""
      ],
      "metadata": {
        "id": "iSlcB_G1v60F"
      },
      "execution_count": null,
      "outputs": []
    }
  ]
}